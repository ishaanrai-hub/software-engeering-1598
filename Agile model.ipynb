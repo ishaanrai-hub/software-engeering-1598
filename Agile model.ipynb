{
  "nbformat": 4,
  "nbformat_minor": 0,
  "metadata": {
    "colab": {
      "provenance": [],
      "authorship_tag": "ABX9TyONfRJXLD1pHr3sSYtALiLg",
      "include_colab_link": true
    },
    "kernelspec": {
      "name": "python3",
      "display_name": "Python 3"
    },
    "language_info": {
      "name": "python"
    }
  },
  "cells": [
    {
      "cell_type": "markdown",
      "metadata": {
        "id": "view-in-github",
        "colab_type": "text"
      },
      "source": [
        "<a href=\"https://colab.research.google.com/github/ishaanrai-hub/software-engeering-1598/blob/main/Agile%20model.ipynb\" target=\"_parent\"><img src=\"https://colab.research.google.com/assets/colab-badge.svg\" alt=\"Open In Colab\"/></a>"
      ]
    },
    {
      "cell_type": "code",
      "execution_count": 1,
      "metadata": {
        "colab": {
          "base_uri": "https://localhost:8080/"
        },
        "id": "kv46Prm-UDQP",
        "outputId": "748aaf17-f5f9-452b-9a52-3c34a76d5459"
      },
      "outputs": [
        {
          "output_type": "stream",
          "name": "stdout",
          "text": [
            "Weather Condition Calculator\n",
            "------------------------------\n",
            "Enter the temperature (in Celsius): 20\n",
            "Enter the humidity (in percentage): 80\n",
            "\n",
            "The result is: 187.78\n",
            "The weather condition is: sunny\n",
            "\n",
            "Do you want to check another weather condition? (yes/no): no\n",
            "Goodbye!\n"
          ]
        }
      ],
      "source": [
        "def calculate_weather_result(temperature, humidity):\n",
        "    if not (0 <= humidity <= 100):\n",
        "        raise ValueError(\"Humidity should be between 0 and 100 percent.\")\n",
        "    return (0.5 * (temperature ** 2) - 0.2 * humidity - 15) / 0.9\n",
        "\n",
        "def get_weather_condition(result):\n",
        "    if result < -5:\n",
        "        return \"rainy\"\n",
        "    elif result < 15:\n",
        "        return \"windy\"\n",
        "    else:\n",
        "        return \"sunny\"\n",
        "\n",
        "def main():\n",
        "    print(\"Weather Condition Calculator\")\n",
        "    print(\"-\" * 30)\n",
        "\n",
        "    while True:\n",
        "        try:\n",
        "            temperature = float(input(\"Enter the temperature (in Celsius): \"))\n",
        "            humidity = float(input(\"Enter the humidity (in percentage): \"))\n",
        "\n",
        "            result = calculate_weather_result(temperature, humidity)\n",
        "            condition = get_weather_condition(result)\n",
        "\n",
        "            print(f\"\\nThe result is: {result:.2f}\")\n",
        "            print(f\"The weather condition is: {condition}\\n\")\n",
        "\n",
        "            choice = input(\"Do you want to check another weather condition? (yes/no): \").strip().lower()\n",
        "            if choice not in ['yes', 'y']:\n",
        "                print(\"Goodbye!\")\n",
        "                break\n",
        "        except ValueError as e:\n",
        "            print(f\"Error: {e}\")\n",
        "\n",
        "if __name__ == \"__main__\":\n",
        "    main()\n"
      ]
    }
  ]
}